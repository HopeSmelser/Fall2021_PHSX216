{
 "cells": [
  {
   "cell_type": "code",
   "execution_count": 38,
   "id": "7b29ef57",
   "metadata": {},
   "outputs": [
    {
     "name": "stdout",
     "output_type": "stream",
     "text": [
      "Rule 1 numbers check\n",
      "0.005\n"
     ]
    }
   ],
   "source": [
    "import numpy as np\n",
    "def rule1(Q,a,da):\n",
    "    dQ = Q*(da/a)\n",
    "    return dQ\n",
    "\n",
    "Q = 2\n",
    "a=4\n",
    "da = 0.01\n",
    "errtotal=rule1(Q,a,da)\n",
    "print (\"Rule 1 numbers check\")\n",
    "print (errtotal)\n"
   ]
  },
  {
   "cell_type": "code",
   "execution_count": 39,
   "id": "c4fa95c4",
   "metadata": {},
   "outputs": [
    {
     "name": "stdout",
     "output_type": "stream",
     "text": [
      "Rule 2 numbers check\n",
      "0.045\n"
     ]
    }
   ],
   "source": [
    "import numpy as np\n",
    "def rule2 (Q,m,a,da):\n",
    "    dQ = Q*m*(da/a)\n",
    "    return dQ\n",
    "Q=2\n",
    "m=3\n",
    "a=4\n",
    "da=.03\n",
    "errtotal=rule2(Q,m,a,da)\n",
    "print (\"Rule 2 numbers check\")\n",
    "print (errtotal)"
   ]
  },
  {
   "cell_type": "code",
   "execution_count": 40,
   "id": "4dc0149a",
   "metadata": {},
   "outputs": [
    {
     "name": "stdout",
     "output_type": "stream",
     "text": [
      "Rule 3 numbers check\n",
      "0.01414213562373095\n"
     ]
    }
   ],
   "source": [
    "import numpy as np\n",
    "def rule3(da,db):\n",
    "    dQ = np.sqrt(da**2 + db**2)\n",
    "    return dQ\n",
    "\n",
    "d1 = 1.2\n",
    "d2 = 1.3\n",
    "errd1 = 0.01\n",
    "errd2 = 0.01\n",
    "errtotal = rule3(errd1,errd2)\n",
    "print (\"Rule 3 numbers check\")\n",
    "print (errtotal)"
   ]
  },
  {
   "cell_type": "code",
   "execution_count": 41,
   "id": "c41dcb1d",
   "metadata": {},
   "outputs": [
    {
     "name": "stdout",
     "output_type": "stream",
     "text": [
      "Rule 4 numbers check\n",
      "0.018895103686157894\n"
     ]
    }
   ],
   "source": [
    "import numpy as np\n",
    "def rule4(Q,m,da,a,n,db,b):\n",
    "    dQ = Q*np.sqrt((m*((da/a)**2))+(n*((db/b)**2)))\n",
    "    return dQ\n",
    "Q=4\n",
    "m=2\n",
    "da=0.01\n",
    "a=3\n",
    "n=0.5\n",
    "db=0.003\n",
    "b=7\n",
    "errtotal=rule4(Q,m,da,a,n,db,b)\n",
    "print (\"Rule 4 numbers check\")\n",
    "print (errtotal)"
   ]
  },
  {
   "cell_type": "code",
   "execution_count": 43,
   "id": "f030e41d",
   "metadata": {},
   "outputs": [
    {
     "name": "stdout",
     "output_type": "stream",
     "text": [
      "Error in X using rule 3\n",
      "0.0008660254037844387\n"
     ]
    }
   ],
   "source": [
    "import numpy as np\n",
    "def rule3 (da,db,dc):\n",
    "    dX = np.sqrt(da**2 + db**2 + dc**2)\n",
    "    return dX\n",
    "da=0.0005\n",
    "db=0.0005\n",
    "dc=0.0005\n",
    "errtotal=rule3(da,db,dc)\n",
    "print (\"Error in X using rule 3\")\n",
    "print (errtotal)"
   ]
  },
  {
   "cell_type": "code",
   "execution_count": 45,
   "id": "412c8048",
   "metadata": {},
   "outputs": [
    {
     "name": "stdout",
     "output_type": "stream",
     "text": [
      "Rule 4 reporting of error in velocity initial using dX calculated from rule 3.\n",
      "0.0019975125782122276\n"
     ]
    }
   ],
   "source": [
    "import numpy as np\n",
    "def rule4(v,m,dX,X,n,dy,y):\n",
    "    dv=v*np.sqrt((m*(dX/X))**2+(n*(dy/y))**2)\n",
    "    return dv\n",
    "v=2.089\n",
    "m=1\n",
    "dX=0.000866\n",
    "X=0.939\n",
    "n=0.5\n",
    "dy=0.0005\n",
    "y=0.990\n",
    "errtotal=rule4(v,m,dX,X,n,dy,y)\n",
    "print (\"Rule 4 reporting of error in velocity initial using dX calculated from rule 3.\")\n",
    "print (errtotal)"
   ]
  },
  {
   "cell_type": "code",
   "execution_count": 37,
   "id": "06f52f61",
   "metadata": {
    "scrolled": true
   },
   "outputs": [
    {
     "name": "stdout",
     "output_type": "stream",
     "text": [
      "The error calculated using rule 3 and 4 has returned a much lower error value than the method used last week in the report. The error calculated with this method was only ~0.002 while the method last week returned a value of 0.011. likely because the error in X is different having used rule 3 this time to calculate it\n"
     ]
    }
   ],
   "source": [
    "print (\"The error calculated using rule 3 and 4 has returned a much lower error value than the method used last week in the report. The error calculated with this method was only ~0.002 while the method last week returned a value of 0.011. likely because the error in X is different having used rule 3 this time to calculate it\")"
   ]
  },
  {
   "cell_type": "code",
   "execution_count": 25,
   "id": "a0898e7c",
   "metadata": {},
   "outputs": [
    {
     "name": "stdout",
     "output_type": "stream",
     "text": [
      "x_avg: 1.1333333333333333\n",
      "x_std: 0.1818118685772619\n",
      "The average value of x is 1.1333333333333333 and the standard deviation of x is 0.1818118685772619\n"
     ]
    }
   ],
   "source": [
    "import numpy as np\n",
    "x=np.array([1.2,1.3,1.4,0.9,0.95,1.05])\n",
    "x_avg=np.average(x)\n",
    "x_std=np.std(x)\n",
    "print(\"x_avg:\",x_avg)\n",
    "print(\"x_std:\",x_std)\n",
    "print(\"The average value of x is\",x_avg, \"and the standard deviation of x is\",x_std)"
   ]
  },
  {
   "cell_type": "code",
   "execution_count": 32,
   "id": "9b048e32",
   "metadata": {},
   "outputs": [
    {
     "name": "stdout",
     "output_type": "stream",
     "text": [
      "1) generic form of rule 3\n",
      "2) initial velocity error equation from above\n",
      "3) error in x equation used last week in the lab to calculate initial velocity error\n"
     ]
    }
   ],
   "source": [
    "print (\"1) generic form of rule 3\")\n",
    "print (\"2) initial velocity error equation from above\"),\n",
    "print (\"3) error in x equation used last week in the lab to calculate initial velocity error\")"
   ]
  },
  {
   "cell_type": "markdown",
   "id": "8cb6c0ae",
   "metadata": {},
   "source": [
    "1) $\\delta Q = \\sqrt{(\\delta A)^2 + (\\delta B)^2}$"
   ]
  },
  {
   "cell_type": "markdown",
   "id": "ce900e95",
   "metadata": {},
   "source": [
    "2) $\\delta v = \\sqrt{((\\delta X)/X)^2 + ((\\delta y) * 0.5)/y)^2}$"
   ]
  },
  {
   "cell_type": "markdown",
   "id": "a3cfc809",
   "metadata": {},
   "source": [
    "3) $\\delta X = \\sigma/\\sqrt{N}$"
   ]
  }
 ],
 "metadata": {
  "kernelspec": {
   "display_name": "Python 3",
   "language": "python",
   "name": "python3"
  },
  "language_info": {
   "codemirror_mode": {
    "name": "ipython",
    "version": 3
   },
   "file_extension": ".py",
   "mimetype": "text/x-python",
   "name": "python",
   "nbconvert_exporter": "python",
   "pygments_lexer": "ipython3",
   "version": "3.8.8"
  }
 },
 "nbformat": 4,
 "nbformat_minor": 5
}
